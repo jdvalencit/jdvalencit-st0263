{
 "cells": [
  {
   "cell_type": "code",
   "execution_count": 42,
   "metadata": {},
   "outputs": [
    {
     "data": {
      "application/vnd.jupyter.widget-view+json": {
       "model_id": "",
       "version_major": 2,
       "version_minor": 0
      },
      "text/plain": [
       "FloatProgress(value=0.0, bar_style='info', description='Progress:', layout=Layout(height='25px', width='50%'),…"
      ]
     },
     "metadata": {},
     "output_type": "display_data"
    }
   ],
   "source": [
    "from pyspark.sql import SparkSession\n",
    "from pyspark.sql.functions import concat, col, lit\n",
    "from pyspark.sql.functions import desc\n",
    "from pyspark.sql.functions import udf"
   ]
  },
  {
   "cell_type": "code",
   "execution_count": 5,
   "metadata": {},
   "outputs": [
    {
     "data": {
      "application/vnd.jupyter.widget-view+json": {
       "model_id": "",
       "version_major": 2,
       "version_minor": 0
      },
      "text/plain": [
       "FloatProgress(value=0.0, bar_style='info', description='Progress:', layout=Layout(height='25px', width='50%'),…"
      ]
     },
     "metadata": {},
     "output_type": "display_data"
    }
   ],
   "source": [
    "spark=SparkSession.builder.appName('data_processing').getOrCreate()"
   ]
  },
  {
   "cell_type": "code",
   "execution_count": 7,
   "metadata": {},
   "outputs": [
    {
     "data": {
      "application/vnd.jupyter.widget-view+json": {
       "model_id": "",
       "version_major": 2,
       "version_minor": 0
      },
      "text/plain": [
       "FloatProgress(value=0.0, bar_style='info', description='Progress:', layout=Layout(height='25px', width='50%'),…"
      ]
     },
     "metadata": {},
     "output_type": "display_data"
    }
   ],
   "source": [
    "df=spark.read.csv('s3://st0263jdvalencit/datasets/covid19/Casos_positivos_de_COVID-19_en_Colombia-100K.csv',inferSchema=True,header=True)"
   ]
  },
  {
   "cell_type": "code",
   "execution_count": 8,
   "metadata": {},
   "outputs": [
    {
     "data": {
      "application/vnd.jupyter.widget-view+json": {
       "model_id": "",
       "version_major": 2,
       "version_minor": 0
      },
      "text/plain": [
       "FloatProgress(value=0.0, bar_style='info', description='Progress:', layout=Layout(height='25px', width='50%'),…"
      ]
     },
     "metadata": {},
     "output_type": "display_data"
    },
    {
     "name": "stdout",
     "output_type": "stream",
     "text": [
      "['fecha reporte web', 'ID de caso', 'Fecha de notificación', 'Código DIVIPOLA departamento', 'Nombre departamento', 'Código DIVIPOLA municipio', 'Nombre municipio', 'Edad', 'Unidad de medida de edad', 'Sexo', 'Tipo de contagio', 'Ubicación del caso', 'Estado', 'Código ISO del país', 'Nombre del país', 'Recuperado', 'Fecha de inicio de síntomas', 'Fecha de muerte', 'Fecha de diagnóstico', 'Fecha de recuperación', 'Tipo de recuperación', 'Pertenencia étnica', 'Nombre del grupo étnico']"
     ]
    }
   ],
   "source": [
    "# 2.1 columnas\n",
    "df.columns"
   ]
  },
  {
   "cell_type": "code",
   "execution_count": 12,
   "metadata": {},
   "outputs": [
    {
     "data": {
      "application/vnd.jupyter.widget-view+json": {
       "model_id": "",
       "version_major": 2,
       "version_minor": 0
      },
      "text/plain": [
       "FloatProgress(value=0.0, bar_style='info', description='Progress:', layout=Layout(height='25px', width='50%'),…"
      ]
     },
     "metadata": {},
     "output_type": "display_data"
    },
    {
     "name": "stdout",
     "output_type": "stream",
     "text": [
      "root\n",
      " |-- fecha reporte web: string (nullable = true)\n",
      " |-- ID de caso: integer (nullable = true)\n",
      " |-- Fecha de notificación: string (nullable = true)\n",
      " |-- Código DIVIPOLA departamento: integer (nullable = true)\n",
      " |-- Nombre departamento: string (nullable = true)\n",
      " |-- Código DIVIPOLA municipio: integer (nullable = true)\n",
      " |-- Nombre municipio: string (nullable = true)\n",
      " |-- Edad: integer (nullable = true)\n",
      " |-- Unidad de medida de edad: integer (nullable = true)\n",
      " |-- Sexo: string (nullable = true)\n",
      " |-- Tipo de contagio: string (nullable = true)\n",
      " |-- Ubicación del caso: string (nullable = true)\n",
      " |-- Estado: string (nullable = true)\n",
      " |-- Código ISO del país: integer (nullable = true)\n",
      " |-- Nombre del país: string (nullable = true)\n",
      " |-- Recuperado: string (nullable = true)\n",
      " |-- Fecha de inicio de síntomas: string (nullable = true)\n",
      " |-- Fecha de muerte: string (nullable = true)\n",
      " |-- Fecha de diagnóstico: string (nullable = true)\n",
      " |-- Fecha de recuperación: string (nullable = true)\n",
      " |-- Tipo de recuperación: string (nullable = true)\n",
      " |-- Pertenencia étnica: integer (nullable = true)\n",
      " |-- Nombre del grupo étnico: string (nullable = true)"
     ]
    }
   ],
   "source": [
    "# 2.2 tipos de datos\n",
    "df.printSchema()"
   ]
  },
  {
   "cell_type": "code",
   "execution_count": 11,
   "metadata": {},
   "outputs": [
    {
     "data": {
      "application/vnd.jupyter.widget-view+json": {
       "model_id": "",
       "version_major": 2,
       "version_minor": 0
      },
      "text/plain": [
       "FloatProgress(value=0.0, bar_style='info', description='Progress:', layout=Layout(height='25px', width='50%'),…"
      ]
     },
     "metadata": {},
     "output_type": "display_data"
    },
    {
     "name": "stdout",
     "output_type": "stream",
     "text": [
      "+----------------+----+----+\n",
      "|Nombre municipio|sexo|Edad|\n",
      "+----------------+----+----+\n",
      "|          BOGOTA|   F|  19|\n",
      "|            BUGA|   M|  34|\n",
      "|        MEDELLIN|   F|  50|\n",
      "|        MEDELLIN|   M|  55|\n",
      "|        MEDELLIN|   M|  25|\n",
      "|          ITAGUI|   F|  27|\n",
      "|       CARTAGENA|   F|  85|\n",
      "|          BOGOTA|   F|  22|\n",
      "|          BOGOTA|   F|  28|\n",
      "|          BOGOTA|   F|  36|\n",
      "|          BOGOTA|   F|  42|\n",
      "|           NEIVA|   F|  74|\n",
      "|           NEIVA|   F|  68|\n",
      "|         PALMIRA|   M|  48|\n",
      "|   VILLAVICENCIO|   F|  30|\n",
      "+----------------+----+----+\n",
      "only showing top 15 rows"
     ]
    }
   ],
   "source": [
    "# 2.3 seleccionar algunas columnas\n",
    "df.select('Nombre municipio','sexo','Edad').show(15)"
   ]
  },
  {
   "cell_type": "code",
   "execution_count": 13,
   "metadata": {},
   "outputs": [
    {
     "data": {
      "application/vnd.jupyter.widget-view+json": {
       "model_id": "",
       "version_major": 2,
       "version_minor": 0
      },
      "text/plain": [
       "FloatProgress(value=0.0, bar_style='info', description='Progress:', layout=Layout(height='25px', width='50%'),…"
      ]
     },
     "metadata": {},
     "output_type": "display_data"
    }
   ],
   "source": [
    "# 2.4 Renombrar columnas\n",
    "df =df.withColumnRenamed(\"fecha reporte web\", \"fecha_reporte_web\")\n",
    "df =df.withColumnRenamed(\"ID de caso\", \"id_caso\")\n",
    "df =df.withColumnRenamed(\"Fecha de notificación\", \"fecha_notificacion\")\n",
    "df =df.withColumnRenamed(\"Código DIVIPOLA departamento\", \"codigo_departamento\")\n",
    "df =df.withColumnRenamed(\"Nombre departamento\", \"departamento\")\n",
    "df =df.withColumnRenamed(\"Código DIVIPOLA municipio\", \"codigo_municipio\")\n",
    "df =df.withColumnRenamed(\"Nombre municipio\", \"municipio\")\n",
    "df =df.withColumnRenamed(\"Edad\", \"edad\")\n",
    "df =df.withColumnRenamed(\"Sexo\", \"sexo\")\n",
    "df =df.withColumnRenamed(\"Tipo de contagio\", \"tipo_contagio\")\n",
    "df =df.withColumnRenamed(\"Ubicación del caso\", \"ubicacion_caso\")\n",
    "df =df.withColumnRenamed(\"Estado\", \"estado\")\n",
    "df =df.withColumnRenamed(\"Código ISO del país\", \"codigo_pais\")\n",
    "df =df.withColumnRenamed(\"Nombre del país\", \"nombre_pais\")\n",
    "df =df.withColumnRenamed(\"Recuperado\", \"recuperado\")\n",
    "df =df.withColumnRenamed(\"Fecha de inicio de síntomas\", \"fecha_inicio_sintomas\")\n",
    "df =df.withColumnRenamed(\"Fecha de muerte\", \"fecha_muerte\")\n",
    "df =df.withColumnRenamed(\"Fecha de diagnóstico\", \"fecha_diagnostico\")\n",
    "df =df.withColumnRenamed(\"Fecha de recuperación\", \"fecha_recuperacion\")\n",
    "df =df.withColumnRenamed(\"Tipo de recuperación\", \"tipo_recuperacion\")\n",
    "df =df.withColumnRenamed(\"Pertenencia étnica\", \"pertenencia_etnica\")\n",
    "df =df.withColumnRenamed(\"Nombre del grupo étnico\", \"nombre_etnia\")"
   ]
  },
  {
   "cell_type": "code",
   "execution_count": 26,
   "metadata": {},
   "outputs": [
    {
     "data": {
      "application/vnd.jupyter.widget-view+json": {
       "model_id": "",
       "version_major": 2,
       "version_minor": 0
      },
      "text/plain": [
       "FloatProgress(value=0.0, bar_style='info', description='Progress:', layout=Layout(height='25px', width='50%'),…"
      ]
     },
     "metadata": {},
     "output_type": "display_data"
    },
    {
     "name": "stdout",
     "output_type": "stream",
     "text": [
      "+-------------+\n",
      "|datos_basicos|\n",
      "+-------------+\n",
      "|     1, 19, F|\n",
      "|     2, 34, M|\n",
      "|     3, 50, F|\n",
      "|     4, 55, M|\n",
      "|     5, 25, M|\n",
      "+-------------+\n",
      "only showing top 5 rows"
     ]
    }
   ],
   "source": [
    "# 2.5 agregar columnas\n",
    "df = df.withColumn(\"datos_basicos\", concat(col(\"id_caso\"), lit(\", \"), col(\"edad\"), lit(\", \"), col(\"sexo\")))\n",
    "df.select(\"datos_basicos\").show(5)"
   ]
  },
  {
   "cell_type": "code",
   "execution_count": 33,
   "metadata": {},
   "outputs": [
    {
     "data": {
      "application/vnd.jupyter.widget-view+json": {
       "model_id": "",
       "version_major": 2,
       "version_minor": 0
      },
      "text/plain": [
       "FloatProgress(value=0.0, bar_style='info', description='Progress:', layout=Layout(height='25px', width='50%'),…"
      ]
     },
     "metadata": {},
     "output_type": "display_data"
    },
    {
     "name": "stdout",
     "output_type": "stream",
     "text": [
      "['fecha_reporte_web', 'id_caso', 'fecha_notificacion', 'departamento', 'municipio', 'edad', 'Unidad de medida de edad', 'sexo', 'tipo_contagio', 'ubicacion_caso', 'estado', 'codigo_pais', 'nombre_pais', 'recuperado', 'fecha_inicio_sintomas', 'fecha_muerte', 'fecha_diagnostico', 'fecha_recuperacion', 'tipo_recuperacion', 'pertenencia_etnica', 'nombre_etnia', 'datos_basicos']"
     ]
    }
   ],
   "source": [
    "# 2.6 borrar columnas\n",
    "df = df.drop(\"codigo_departamento\",\"codigo_municipio\")\n",
    "df.columns"
   ]
  },
  {
   "cell_type": "code",
   "execution_count": 36,
   "metadata": {},
   "outputs": [
    {
     "data": {
      "application/vnd.jupyter.widget-view+json": {
       "model_id": "",
       "version_major": 2,
       "version_minor": 0
      },
      "text/plain": [
       "FloatProgress(value=0.0, bar_style='info', description='Progress:', layout=Layout(height='25px', width='50%'),…"
      ]
     },
     "metadata": {},
     "output_type": "display_data"
    },
    {
     "name": "stdout",
     "output_type": "stream",
     "text": [
      "+-------+----+---------------------+-----------------+\n",
      "|id_caso|sexo|fecha_inicio_sintomas|fecha_diagnostico|\n",
      "+-------+----+---------------------+-----------------+\n",
      "|      2|   M|     4/3/2020 0:00:00| 9/3/2020 0:00:00|\n",
      "|      4|   M|     6/3/2020 0:00:00|11/3/2020 0:00:00|\n",
      "|      5|   M|     8/3/2020 0:00:00|11/3/2020 0:00:00|\n",
      "|     14|   M|     7/3/2020 0:00:00|13/3/2020 0:00:00|\n",
      "|     18|   M|     7/3/2020 0:00:00|14/3/2020 0:00:00|\n",
      "|     21|   M|    10/3/2020 0:00:00|14/3/2020 0:00:00|\n",
      "|     22|   M|     9/3/2020 0:00:00|14/3/2020 0:00:00|\n",
      "|     23|   M|     8/3/2020 0:00:00|14/3/2020 0:00:00|\n",
      "|     25|   M|    10/3/2020 0:00:00|13/3/2020 0:00:00|\n",
      "|     28|   M|    10/3/2020 0:00:00|14/3/2020 0:00:00|\n",
      "+-------+----+---------------------+-----------------+\n",
      "only showing top 10 rows"
     ]
    }
   ],
   "source": [
    "# 2.7 filtrar datos\n",
    "df.select(\"id_caso\", \"sexo\",\"fecha_inicio_sintomas\",\"fecha_diagnostico\").filter(df[\"sexo\"] == \"M\").show(10)\n"
   ]
  },
  {
   "cell_type": "code",
   "execution_count": 39,
   "metadata": {},
   "outputs": [
    {
     "data": {
      "application/vnd.jupyter.widget-view+json": {
       "model_id": "",
       "version_major": 2,
       "version_minor": 0
      },
      "text/plain": [
       "FloatProgress(value=0.0, bar_style='info', description='Progress:', layout=Layout(height='25px', width='50%'),…"
      ]
     },
     "metadata": {},
     "output_type": "display_data"
    },
    {
     "name": "stdout",
     "output_type": "stream",
     "text": [
      "+----+-------+\n",
      "|sexo|    tag|\n",
      "+----+-------+\n",
      "|   F|sexo: F|\n",
      "|   M|sexo: M|\n",
      "|   F|sexo: F|\n",
      "|   M|sexo: M|\n",
      "|   M|sexo: M|\n",
      "+----+-------+\n",
      "only showing top 5 rows"
     ]
    }
   ],
   "source": [
    "# 2.8 ejecutar alguna función UDF o lambda sobre alguna columna creando una nueva.\n",
    "lambda_function = udf(lambda column_value: \"sexo: \" + column_value)\n",
    "df = df.withColumn(\"tag\", lambda_function(df[\"sexo\"]))\n",
    "df.select('sexo','tag').show(5)"
   ]
  },
  {
   "cell_type": "code",
   "execution_count": 43,
   "metadata": {},
   "outputs": [
    {
     "data": {
      "application/vnd.jupyter.widget-view+json": {
       "model_id": "",
       "version_major": 2,
       "version_minor": 0
      },
      "text/plain": [
       "FloatProgress(value=0.0, bar_style='info', description='Progress:', layout=Layout(height='25px', width='50%'),…"
      ]
     },
     "metadata": {},
     "output_type": "display_data"
    },
    {
     "name": "stdout",
     "output_type": "stream",
     "text": [
      "+------------+-----+\n",
      "|departamento|count|\n",
      "+------------+-----+\n",
      "|      BOGOTA|30016|\n",
      "|BARRANQUILLA|13065|\n",
      "|   ATLANTICO|10994|\n",
      "|       VALLE|10404|\n",
      "|   CARTAGENA| 8333|\n",
      "|   ANTIOQUIA| 4554|\n",
      "|      NARIÑO| 3520|\n",
      "|CUNDINAMARCA| 2827|\n",
      "|    AMAZONAS| 2317|\n",
      "|       CHOCO| 1636|\n",
      "+------------+-----+"
     ]
    }
   ],
   "source": [
    "# 3. contestar las siguientes preguntas de negocio sobre los datos de covid:\n",
    "# 3.1 Los 10 departamentos con más casos de covid en Colombia ordenados de mayor a menor.\n",
    "# Dataframes\n",
    "departamentos = df.groupBy(\"departamento\").count().orderBy(desc(\"count\")).limit(10)\n",
    "departamentos.show()"
   ]
  },
  {
   "cell_type": "code",
   "execution_count": 51,
   "metadata": {},
   "outputs": [
    {
     "data": {
      "application/vnd.jupyter.widget-view+json": {
       "model_id": "",
       "version_major": 2,
       "version_minor": 0
      },
      "text/plain": [
       "FloatProgress(value=0.0, bar_style='info', description='Progress:', layout=Layout(height='25px', width='50%'),…"
      ]
     },
     "metadata": {},
     "output_type": "display_data"
    },
    {
     "name": "stdout",
     "output_type": "stream",
     "text": [
      "+------------+-----+\n",
      "|departamento|casos|\n",
      "+------------+-----+\n",
      "|      BOGOTA|30016|\n",
      "|BARRANQUILLA|13065|\n",
      "|   ATLANTICO|10994|\n",
      "|       VALLE|10404|\n",
      "|   CARTAGENA| 8333|\n",
      "|   ANTIOQUIA| 4554|\n",
      "|      NARIÑO| 3520|\n",
      "|CUNDINAMARCA| 2827|\n",
      "|    AMAZONAS| 2317|\n",
      "|       CHOCO| 1636|\n",
      "+------------+-----+"
     ]
    }
   ],
   "source": [
    "# SparkSQL\n",
    "df.createOrReplaceTempView(\"data\")\n",
    "departamentos = spark.sql(\"SELECT departamento, COUNT(*) AS casos FROM data GROUP BY departamento ORDER BY casos DESC LIMIT 10\")\n",
    "departamentos.show()"
   ]
  },
  {
   "cell_type": "code",
   "execution_count": 45,
   "metadata": {
    "scrolled": true
   },
   "outputs": [
    {
     "data": {
      "application/vnd.jupyter.widget-view+json": {
       "model_id": "",
       "version_major": 2,
       "version_minor": 0
      },
      "text/plain": [
       "FloatProgress(value=0.0, bar_style='info', description='Progress:', layout=Layout(height='25px', width='50%'),…"
      ]
     },
     "metadata": {},
     "output_type": "display_data"
    },
    {
     "name": "stdout",
     "output_type": "stream",
     "text": [
      "+------------+-----+\n",
      "|   municipio|count|\n",
      "+------------+-----+\n",
      "|      BOGOTA|30016|\n",
      "|BARRANQUILLA|13065|\n",
      "|   CARTAGENA| 8333|\n",
      "|        CALI| 7747|\n",
      "|     SOLEDAD| 6233|\n",
      "|     LETICIA| 2194|\n",
      "|    MEDELLIN| 2137|\n",
      "|      TUMACO| 1501|\n",
      "|BUENAVENTURA| 1453|\n",
      "|      QUIBDO| 1367|\n",
      "+------------+-----+"
     ]
    }
   ],
   "source": [
    "# 3.2 Las 10 ciudades con más casos de covid en Colombia ordenados de mayor a menor.\n",
    "# Dataframes\n",
    "municipios = df.groupBy(\"municipio\").count().orderBy(desc(\"count\")).limit(10)\n",
    "municipios.show()"
   ]
  },
  {
   "cell_type": "code",
   "execution_count": 53,
   "metadata": {},
   "outputs": [
    {
     "data": {
      "application/vnd.jupyter.widget-view+json": {
       "model_id": "",
       "version_major": 2,
       "version_minor": 0
      },
      "text/plain": [
       "FloatProgress(value=0.0, bar_style='info', description='Progress:', layout=Layout(height='25px', width='50%'),…"
      ]
     },
     "metadata": {},
     "output_type": "display_data"
    },
    {
     "name": "stdout",
     "output_type": "stream",
     "text": [
      "+------------+-----+\n",
      "|   municipio|casos|\n",
      "+------------+-----+\n",
      "|      BOGOTA|30016|\n",
      "|BARRANQUILLA|13065|\n",
      "|   CARTAGENA| 8333|\n",
      "|        CALI| 7747|\n",
      "|     SOLEDAD| 6233|\n",
      "|     LETICIA| 2194|\n",
      "|    MEDELLIN| 2137|\n",
      "|      TUMACO| 1501|\n",
      "|BUENAVENTURA| 1453|\n",
      "|      QUIBDO| 1367|\n",
      "+------------+-----+"
     ]
    }
   ],
   "source": [
    "# SparkSQL\n",
    "municipios = spark.sql(\"SELECT municipio, COUNT(*) AS casos FROM data GROUP BY municipio ORDER BY casos DESC LIMIT 10\")\n",
    "municipios.show()"
   ]
  },
  {
   "cell_type": "code",
   "execution_count": 56,
   "metadata": {},
   "outputs": [
    {
     "data": {
      "application/vnd.jupyter.widget-view+json": {
       "model_id": "",
       "version_major": 2,
       "version_minor": 0
      },
      "text/plain": [
       "FloatProgress(value=0.0, bar_style='info', description='Progress:', layout=Layout(height='25px', width='50%'),…"
      ]
     },
     "metadata": {},
     "output_type": "display_data"
    },
    {
     "name": "stdout",
     "output_type": "stream",
     "text": [
      "+-----------------+-----+\n",
      "|fecha_reporte_web|count|\n",
      "+-----------------+-----+\n",
      "|27/6/2020 0:00:00| 4149|\n",
      "|26/6/2020 0:00:00| 3843|\n",
      "|24/6/2020 0:00:00| 3541|\n",
      "|25/6/2020 0:00:00| 3486|\n",
      "|29/6/2020 0:00:00| 3274|\n",
      "|28/6/2020 0:00:00| 3178|\n",
      "|18/6/2020 0:00:00| 3171|\n",
      "|19/6/2020 0:00:00| 3059|\n",
      "|21/6/2020 0:00:00| 3019|\n",
      "|30/6/2020 0:00:00| 2803|\n",
      "+-----------------+-----+"
     ]
    }
   ],
   "source": [
    "# 3.3 Los 10 días con más casos de covid en Colombia ordenados de mayor a menor.\n",
    "# Datasets\n",
    "dias = df.groupBy(\"fecha_reporte_web\").count().orderBy(desc(\"count\")).limit(10)\n",
    "dias.show()"
   ]
  },
  {
   "cell_type": "code",
   "execution_count": 59,
   "metadata": {
    "scrolled": true
   },
   "outputs": [
    {
     "data": {
      "application/vnd.jupyter.widget-view+json": {
       "model_id": "",
       "version_major": 2,
       "version_minor": 0
      },
      "text/plain": [
       "FloatProgress(value=0.0, bar_style='info', description='Progress:', layout=Layout(height='25px', width='50%'),…"
      ]
     },
     "metadata": {},
     "output_type": "display_data"
    },
    {
     "name": "stdout",
     "output_type": "stream",
     "text": [
      "+-----------------+-----+\n",
      "|            Fecha|Casos|\n",
      "+-----------------+-----+\n",
      "|27/6/2020 0:00:00| 4149|\n",
      "|26/6/2020 0:00:00| 3843|\n",
      "|24/6/2020 0:00:00| 3541|\n",
      "|25/6/2020 0:00:00| 3486|\n",
      "|29/6/2020 0:00:00| 3274|\n",
      "|28/6/2020 0:00:00| 3178|\n",
      "|18/6/2020 0:00:00| 3171|\n",
      "|19/6/2020 0:00:00| 3059|\n",
      "|21/6/2020 0:00:00| 3019|\n",
      "|30/6/2020 0:00:00| 2803|\n",
      "+-----------------+-----+"
     ]
    }
   ],
   "source": [
    "# SparkSQL\n",
    "dias = spark.sql(\"SELECT fecha_reporte_web as Fecha, COUNT(*) AS Casos FROM data GROUP BY fecha_reporte_web ORDER BY casos DESC LIMIT 10\")\n",
    "dias.show()"
   ]
  },
  {
   "cell_type": "code",
   "execution_count": 62,
   "metadata": {},
   "outputs": [
    {
     "data": {
      "application/vnd.jupyter.widget-view+json": {
       "model_id": "",
       "version_major": 2,
       "version_minor": 0
      },
      "text/plain": [
       "FloatProgress(value=0.0, bar_style='info', description='Progress:', layout=Layout(height='25px', width='50%'),…"
      ]
     },
     "metadata": {},
     "output_type": "display_data"
    },
    {
     "name": "stdout",
     "output_type": "stream",
     "text": [
      "+----+-----+\n",
      "|edad|count|\n",
      "+----+-----+\n",
      "|  30| 2735|\n",
      "|  29| 2611|\n",
      "|  31| 2569|\n",
      "|  28| 2540|\n",
      "|  27| 2494|\n",
      "|  26| 2436|\n",
      "|  33| 2371|\n",
      "|  32| 2362|\n",
      "|  25| 2335|\n",
      "|  34| 2310|\n",
      "+----+-----+"
     ]
    }
   ],
   "source": [
    "# 3.4 Distribución de casos por edades de covid en Colombia.\n",
    "# Datasets\n",
    "edad = df.groupBy(\"edad\").count().orderBy(desc(\"count\")).limit(10)\n",
    "edad.show()"
   ]
  },
  {
   "cell_type": "code",
   "execution_count": 61,
   "metadata": {},
   "outputs": [
    {
     "data": {
      "application/vnd.jupyter.widget-view+json": {
       "model_id": "",
       "version_major": 2,
       "version_minor": 0
      },
      "text/plain": [
       "FloatProgress(value=0.0, bar_style='info', description='Progress:', layout=Layout(height='25px', width='50%'),…"
      ]
     },
     "metadata": {},
     "output_type": "display_data"
    },
    {
     "name": "stdout",
     "output_type": "stream",
     "text": [
      "+----+-----+\n",
      "|edad|casos|\n",
      "+----+-----+\n",
      "|  30| 2735|\n",
      "|  29| 2611|\n",
      "|  31| 2569|\n",
      "|  28| 2540|\n",
      "|  27| 2494|\n",
      "|  26| 2436|\n",
      "|  33| 2371|\n",
      "|  32| 2362|\n",
      "|  25| 2335|\n",
      "|  34| 2310|\n",
      "+----+-----+"
     ]
    }
   ],
   "source": [
    "# SparkSQL\n",
    "edad = spark.sql(\"SELECT edad, COUNT(*) AS casos FROM data GROUP BY edad ORDER BY casos DESC LIMIT 10\")\n",
    "edad.show()"
   ]
  },
  {
   "cell_type": "code",
   "execution_count": 66,
   "metadata": {},
   "outputs": [
    {
     "data": {
      "application/vnd.jupyter.widget-view+json": {
       "model_id": "",
       "version_major": 2,
       "version_minor": 0
      },
      "text/plain": [
       "FloatProgress(value=0.0, bar_style='info', description='Progress:', layout=Layout(height='25px', width='50%'),…"
      ]
     },
     "metadata": {},
     "output_type": "display_data"
    },
    {
     "name": "stdout",
     "output_type": "stream",
     "text": [
      "+------------+-----+\n",
      "|nombre_etnia|count|\n",
      "+------------+-----+\n",
      "|        null|94342|\n",
      "| Por definir| 3603|\n",
      "|      MOKANA|  373|\n",
      "|      TIKUNA|  357|\n",
      "|        ZENU|  273|\n",
      "|       PASTO|  218|\n",
      "|       PIJAO|  116|\n",
      "|MURUI_UITOTO|   96|\n",
      "|   NASA_PAÉZ|   82|\n",
      "|       WAYUU|   62|\n",
      "+------------+-----+"
     ]
    }
   ],
   "source": [
    "# 3.5 las 10 etnias con más casos reportados en colombia\n",
    "# Datasets\n",
    "etnia = df.groupBy(\"nombre_etnia\").count().orderBy(desc(\"count\")).limit(10)\n",
    "etnia.show()"
   ]
  },
  {
   "cell_type": "code",
   "execution_count": 65,
   "metadata": {},
   "outputs": [
    {
     "data": {
      "application/vnd.jupyter.widget-view+json": {
       "model_id": "",
       "version_major": 2,
       "version_minor": 0
      },
      "text/plain": [
       "FloatProgress(value=0.0, bar_style='info', description='Progress:', layout=Layout(height='25px', width='50%'),…"
      ]
     },
     "metadata": {},
     "output_type": "display_data"
    },
    {
     "name": "stdout",
     "output_type": "stream",
     "text": [
      "+------------+-----+\n",
      "|       Etnia|casos|\n",
      "+------------+-----+\n",
      "|        null|94342|\n",
      "| Por definir| 3603|\n",
      "|      MOKANA|  373|\n",
      "|      TIKUNA|  357|\n",
      "|        ZENU|  273|\n",
      "|       PASTO|  218|\n",
      "|       PIJAO|  116|\n",
      "|MURUI_UITOTO|   96|\n",
      "|   NASA_PAÉZ|   82|\n",
      "|       WAYUU|   62|\n",
      "+------------+-----+"
     ]
    }
   ],
   "source": [
    "# SparkSQL\n",
    "etnia = spark.sql(\"SELECT nombre_etnia as Etnia, COUNT(*) AS casos FROM data GROUP BY nombre_etnia ORDER BY casos DESC LIMIT 10\")\n",
    "etnia.show()"
   ]
  },
  {
   "cell_type": "code",
   "execution_count": 69,
   "metadata": {},
   "outputs": [
    {
     "data": {
      "application/vnd.jupyter.widget-view+json": {
       "model_id": "",
       "version_major": 2,
       "version_minor": 0
      },
      "text/plain": [
       "FloatProgress(value=0.0, bar_style='info', description='Progress:', layout=Layout(height='25px', width='50%'),…"
      ]
     },
     "metadata": {},
     "output_type": "display_data"
    }
   ],
   "source": [
    "departamentos.write.csv(\"s3://st0263jdvalencit/lab6.2/departamentos.csv\")\n",
    "municipios.write.csv(\"s3://st0263jdvalencit/lab6.2/municipios.csv\")\n",
    "dias.write.csv(\"s3://st0263jdvalencit/lab6.2/dias.csv\")\n",
    "edad.write.csv(\"s3://st0263jdvalencit/lab6.2/edad.csv\")\n",
    "etnia.write.csv(\"s3://st0263jdvalencit/lab6.2/etnia.csv\")"
   ]
  }
 ],
 "metadata": {
  "kernelspec": {
   "display_name": "PySpark",
   "language": "",
   "name": "pysparkkernel"
  },
  "language_info": {
   "codemirror_mode": {
    "name": "python",
    "version": 3
   },
   "mimetype": "text/x-python",
   "name": "pyspark",
   "pygments_lexer": "python3"
  }
 },
 "nbformat": 4,
 "nbformat_minor": 4
}
