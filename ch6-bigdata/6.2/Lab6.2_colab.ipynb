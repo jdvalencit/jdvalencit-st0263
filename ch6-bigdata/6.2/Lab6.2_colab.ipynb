{
  "nbformat": 4,
  "nbformat_minor": 0,
  "metadata": {
    "colab": {
      "provenance": []
    },
    "kernelspec": {
      "name": "python3",
      "display_name": "Python 3"
    },
    "language_info": {
      "name": "python"
    }
  },
  "cells": [
    {
      "cell_type": "code",
      "execution_count": 1,
      "metadata": {
        "colab": {
          "base_uri": "https://localhost:8080/"
        },
        "id": "uk6yiYatzEJj",
        "outputId": "96a9ac7f-5cba-4757-d060-04fcc9cbb3b1"
      },
      "outputs": [
        {
          "output_type": "stream",
          "name": "stdout",
          "text": [
            "Looking in indexes: https://pypi.org/simple, https://us-python.pkg.dev/colab-wheels/public/simple/\n",
            "Collecting pyspark\n",
            "  Downloading pyspark-3.4.0.tar.gz (310.8 MB)\n",
            "\u001b[2K     \u001b[90m━━━━━━━━━━━━━━━━━━━━━━━━━━━━━━━━━━━━━━━\u001b[0m \u001b[32m310.8/310.8 MB\u001b[0m \u001b[31m1.1 MB/s\u001b[0m eta \u001b[36m0:00:00\u001b[0m\n",
            "\u001b[?25h  Preparing metadata (setup.py) ... \u001b[?25l\u001b[?25hdone\n",
            "Requirement already satisfied: py4j==0.10.9.7 in /usr/local/lib/python3.10/dist-packages (from pyspark) (0.10.9.7)\n",
            "Building wheels for collected packages: pyspark\n",
            "  Building wheel for pyspark (setup.py) ... \u001b[?25l\u001b[?25hdone\n",
            "  Created wheel for pyspark: filename=pyspark-3.4.0-py2.py3-none-any.whl size=311317130 sha256=c54bb01bd2f9e657a19fa69439e528de486865d29d68ecea50e5b710e4b5e8d3\n",
            "  Stored in directory: /root/.cache/pip/wheels/7b/1b/4b/3363a1d04368e7ff0d408e57ff57966fcdf00583774e761327\n",
            "Successfully built pyspark\n",
            "Installing collected packages: pyspark\n",
            "Successfully installed pyspark-3.4.0\n"
          ]
        }
      ],
      "source": [
        "pip install pyspark"
      ]
    },
    {
      "cell_type": "code",
      "source": [
        "from pyspark.sql import SparkSession\n",
        "from pyspark.sql.functions import concat, col, lit\n",
        "from pyspark.sql.functions import desc\n",
        "from pyspark.sql.functions import udf\n",
        "from google.colab import drive"
      ],
      "metadata": {
        "id": "ROAwHFaGi29S"
      },
      "execution_count": 4,
      "outputs": []
    },
    {
      "cell_type": "code",
      "source": [
        "spark=SparkSession.builder.appName('data_processing').getOrCreate()"
      ],
      "metadata": {
        "id": "UWTsv_Kbi9xz"
      },
      "execution_count": 3,
      "outputs": []
    },
    {
      "cell_type": "code",
      "source": [
        "# conectamos con drive\n",
        "drive.mount('/content/drive')\n",
        "df=spark.read.csv('/content/drive/My Drive/covid19/Casos_positivos_de_COVID-19_en_Colombia-100K.csv',inferSchema=True,header=True)"
      ],
      "metadata": {
        "colab": {
          "base_uri": "https://localhost:8080/"
        },
        "id": "Q2HdOZJNjAIN",
        "outputId": "5729c18d-5743-49f0-d6f7-67ca02fa3d94"
      },
      "execution_count": 7,
      "outputs": [
        {
          "output_type": "stream",
          "name": "stdout",
          "text": [
            "Drive already mounted at /content/drive; to attempt to forcibly remount, call drive.mount(\"/content/drive\", force_remount=True).\n"
          ]
        }
      ]
    },
    {
      "cell_type": "code",
      "source": [
        "# 2.1 columnas\n",
        "df.columns"
      ],
      "metadata": {
        "colab": {
          "base_uri": "https://localhost:8080/"
        },
        "id": "93bzNTfrmJwl",
        "outputId": "8f771e2c-f074-4e27-e6c3-a754a5fa0362"
      },
      "execution_count": 9,
      "outputs": [
        {
          "output_type": "execute_result",
          "data": {
            "text/plain": [
              "['fecha reporte web',\n",
              " 'ID de caso',\n",
              " 'Fecha de notificación',\n",
              " 'Código DIVIPOLA departamento',\n",
              " 'Nombre departamento',\n",
              " 'Código DIVIPOLA municipio',\n",
              " 'Nombre municipio',\n",
              " 'Edad',\n",
              " 'Unidad de medida de edad',\n",
              " 'Sexo',\n",
              " 'Tipo de contagio',\n",
              " 'Ubicación del caso',\n",
              " 'Estado',\n",
              " 'Código ISO del país',\n",
              " 'Nombre del país',\n",
              " 'Recuperado',\n",
              " 'Fecha de inicio de síntomas',\n",
              " 'Fecha de muerte',\n",
              " 'Fecha de diagnóstico',\n",
              " 'Fecha de recuperación',\n",
              " 'Tipo de recuperación',\n",
              " 'Pertenencia étnica',\n",
              " 'Nombre del grupo étnico']"
            ]
          },
          "metadata": {},
          "execution_count": 9
        }
      ]
    },
    {
      "cell_type": "code",
      "source": [
        "# 2.2 tipos de datos\n",
        "df.printSchema()"
      ],
      "metadata": {
        "colab": {
          "base_uri": "https://localhost:8080/"
        },
        "id": "cTOdDGjcmbEx",
        "outputId": "575823a9-a780-4d4f-d9e0-9fa3570c9792"
      },
      "execution_count": 10,
      "outputs": [
        {
          "output_type": "stream",
          "name": "stdout",
          "text": [
            "root\n",
            " |-- fecha reporte web: string (nullable = true)\n",
            " |-- ID de caso: integer (nullable = true)\n",
            " |-- Fecha de notificación: string (nullable = true)\n",
            " |-- Código DIVIPOLA departamento: integer (nullable = true)\n",
            " |-- Nombre departamento: string (nullable = true)\n",
            " |-- Código DIVIPOLA municipio: integer (nullable = true)\n",
            " |-- Nombre municipio: string (nullable = true)\n",
            " |-- Edad: integer (nullable = true)\n",
            " |-- Unidad de medida de edad: integer (nullable = true)\n",
            " |-- Sexo: string (nullable = true)\n",
            " |-- Tipo de contagio: string (nullable = true)\n",
            " |-- Ubicación del caso: string (nullable = true)\n",
            " |-- Estado: string (nullable = true)\n",
            " |-- Código ISO del país: integer (nullable = true)\n",
            " |-- Nombre del país: string (nullable = true)\n",
            " |-- Recuperado: string (nullable = true)\n",
            " |-- Fecha de inicio de síntomas: string (nullable = true)\n",
            " |-- Fecha de muerte: string (nullable = true)\n",
            " |-- Fecha de diagnóstico: string (nullable = true)\n",
            " |-- Fecha de recuperación: string (nullable = true)\n",
            " |-- Tipo de recuperación: string (nullable = true)\n",
            " |-- Pertenencia étnica: integer (nullable = true)\n",
            " |-- Nombre del grupo étnico: string (nullable = true)\n",
            "\n"
          ]
        }
      ]
    },
    {
      "cell_type": "code",
      "source": [
        "# 2.3 seleccionar algunas columnas\n",
        "df.select('Nombre municipio','sexo','Edad').show(15)"
      ],
      "metadata": {
        "colab": {
          "base_uri": "https://localhost:8080/"
        },
        "id": "ToW7uFXLmcyt",
        "outputId": "3b3a482d-06a8-4f2b-9159-6adc3612252f"
      },
      "execution_count": 11,
      "outputs": [
        {
          "output_type": "stream",
          "name": "stdout",
          "text": [
            "+----------------+----+----+\n",
            "|Nombre municipio|sexo|Edad|\n",
            "+----------------+----+----+\n",
            "|          BOGOTA|   F|  19|\n",
            "|            BUGA|   M|  34|\n",
            "|        MEDELLIN|   F|  50|\n",
            "|        MEDELLIN|   M|  55|\n",
            "|        MEDELLIN|   M|  25|\n",
            "|          ITAGUI|   F|  27|\n",
            "|       CARTAGENA|   F|  85|\n",
            "|          BOGOTA|   F|  22|\n",
            "|          BOGOTA|   F|  28|\n",
            "|          BOGOTA|   F|  36|\n",
            "|          BOGOTA|   F|  42|\n",
            "|           NEIVA|   F|  74|\n",
            "|           NEIVA|   F|  68|\n",
            "|         PALMIRA|   M|  48|\n",
            "|   VILLAVICENCIO|   F|  30|\n",
            "+----------------+----+----+\n",
            "only showing top 15 rows\n",
            "\n"
          ]
        }
      ]
    },
    {
      "cell_type": "code",
      "source": [
        "# 2.4 Renombrar columnas\n",
        "df =df.withColumnRenamed(\"fecha reporte web\", \"fecha_reporte_web\")\n",
        "df =df.withColumnRenamed(\"ID de caso\", \"id_caso\")\n",
        "df =df.withColumnRenamed(\"Fecha de notificación\", \"fecha_notificacion\")\n",
        "df =df.withColumnRenamed(\"Código DIVIPOLA departamento\", \"codigo_departamento\")\n",
        "df =df.withColumnRenamed(\"Nombre departamento\", \"departamento\")\n",
        "df =df.withColumnRenamed(\"Código DIVIPOLA municipio\", \"codigo_municipio\")\n",
        "df =df.withColumnRenamed(\"Nombre municipio\", \"municipio\")\n",
        "df =df.withColumnRenamed(\"Edad\", \"edad\")\n",
        "df =df.withColumnRenamed(\"Sexo\", \"sexo\")\n",
        "df =df.withColumnRenamed(\"Tipo de contagio\", \"tipo_contagio\")\n",
        "df =df.withColumnRenamed(\"Ubicación del caso\", \"ubicacion_caso\")\n",
        "df =df.withColumnRenamed(\"Estado\", \"estado\")\n",
        "df =df.withColumnRenamed(\"Código ISO del país\", \"codigo_pais\")\n",
        "df =df.withColumnRenamed(\"Nombre del país\", \"nombre_pais\")\n",
        "df =df.withColumnRenamed(\"Recuperado\", \"recuperado\")\n",
        "df =df.withColumnRenamed(\"Fecha de inicio de síntomas\", \"fecha_inicio_sintomas\")\n",
        "df =df.withColumnRenamed(\"Fecha de muerte\", \"fecha_muerte\")\n",
        "df =df.withColumnRenamed(\"Fecha de diagnóstico\", \"fecha_diagnostico\")\n",
        "df =df.withColumnRenamed(\"Fecha de recuperación\", \"fecha_recuperacion\")\n",
        "df =df.withColumnRenamed(\"Tipo de recuperación\", \"tipo_recuperacion\")\n",
        "df =df.withColumnRenamed(\"Pertenencia étnica\", \"pertenencia_etnica\")\n",
        "df =df.withColumnRenamed(\"Nombre del grupo étnico\", \"nombre_etnia\")"
      ],
      "metadata": {
        "id": "j5IGXxwHmfeF"
      },
      "execution_count": 12,
      "outputs": []
    },
    {
      "cell_type": "code",
      "source": [
        "# 2.5 agregar columnas\n",
        "df = df.withColumn(\"datos_basicos\", concat(col(\"id_caso\"), lit(\", \"), col(\"edad\"), lit(\", \"), col(\"sexo\")))\n",
        "df.select(\"datos_basicos\").show(5)"
      ],
      "metadata": {
        "colab": {
          "base_uri": "https://localhost:8080/"
        },
        "id": "eII080PEmjRW",
        "outputId": "15bd3f35-eb1a-424b-cd87-df5c6c49175b"
      },
      "execution_count": 13,
      "outputs": [
        {
          "output_type": "stream",
          "name": "stdout",
          "text": [
            "+-------------+\n",
            "|datos_basicos|\n",
            "+-------------+\n",
            "|     1, 19, F|\n",
            "|     2, 34, M|\n",
            "|     3, 50, F|\n",
            "|     4, 55, M|\n",
            "|     5, 25, M|\n",
            "+-------------+\n",
            "only showing top 5 rows\n",
            "\n"
          ]
        }
      ]
    },
    {
      "cell_type": "code",
      "source": [
        "# 2.6 borrar columnas\n",
        "df = df.drop(\"codigo_departamento\",\"codigo_municipio\")\n",
        "df.columns"
      ],
      "metadata": {
        "colab": {
          "base_uri": "https://localhost:8080/"
        },
        "id": "6uvYh02ymraw",
        "outputId": "74e90a0f-a508-4516-d132-a3fdd27f0a31"
      },
      "execution_count": 14,
      "outputs": [
        {
          "output_type": "execute_result",
          "data": {
            "text/plain": [
              "['fecha_reporte_web',\n",
              " 'id_caso',\n",
              " 'fecha_notificacion',\n",
              " 'departamento',\n",
              " 'municipio',\n",
              " 'edad',\n",
              " 'Unidad de medida de edad',\n",
              " 'sexo',\n",
              " 'tipo_contagio',\n",
              " 'ubicacion_caso',\n",
              " 'estado',\n",
              " 'codigo_pais',\n",
              " 'nombre_pais',\n",
              " 'recuperado',\n",
              " 'fecha_inicio_sintomas',\n",
              " 'fecha_muerte',\n",
              " 'fecha_diagnostico',\n",
              " 'fecha_recuperacion',\n",
              " 'tipo_recuperacion',\n",
              " 'pertenencia_etnica',\n",
              " 'nombre_etnia',\n",
              " 'datos_basicos']"
            ]
          },
          "metadata": {},
          "execution_count": 14
        }
      ]
    },
    {
      "cell_type": "code",
      "source": [
        "# 2.7 filtrar datos\n",
        "df.select(\"id_caso\", \"sexo\",\"fecha_inicio_sintomas\",\"fecha_diagnostico\").filter(df[\"sexo\"] == \"M\").show(10)"
      ],
      "metadata": {
        "colab": {
          "base_uri": "https://localhost:8080/"
        },
        "id": "S1Ayls9_mseh",
        "outputId": "b98663e6-75cc-4d23-973d-036df9f2ffab"
      },
      "execution_count": 15,
      "outputs": [
        {
          "output_type": "stream",
          "name": "stdout",
          "text": [
            "+-------+----+---------------------+-----------------+\n",
            "|id_caso|sexo|fecha_inicio_sintomas|fecha_diagnostico|\n",
            "+-------+----+---------------------+-----------------+\n",
            "|      2|   M|     4/3/2020 0:00:00| 9/3/2020 0:00:00|\n",
            "|      4|   M|     6/3/2020 0:00:00|11/3/2020 0:00:00|\n",
            "|      5|   M|     8/3/2020 0:00:00|11/3/2020 0:00:00|\n",
            "|     14|   M|     7/3/2020 0:00:00|13/3/2020 0:00:00|\n",
            "|     18|   M|     7/3/2020 0:00:00|14/3/2020 0:00:00|\n",
            "|     21|   M|    10/3/2020 0:00:00|14/3/2020 0:00:00|\n",
            "|     22|   M|     9/3/2020 0:00:00|14/3/2020 0:00:00|\n",
            "|     23|   M|     8/3/2020 0:00:00|14/3/2020 0:00:00|\n",
            "|     25|   M|    10/3/2020 0:00:00|13/3/2020 0:00:00|\n",
            "|     28|   M|    10/3/2020 0:00:00|14/3/2020 0:00:00|\n",
            "+-------+----+---------------------+-----------------+\n",
            "only showing top 10 rows\n",
            "\n"
          ]
        }
      ]
    },
    {
      "cell_type": "code",
      "source": [
        "# 2.8 ejecutar alguna función UDF o lambda sobre alguna columna creando una nueva.\n",
        "lambda_function = udf(lambda column_value: \"sexo: \" + column_value)\n",
        "df = df.withColumn(\"tag\", lambda_function(df[\"sexo\"]))\n",
        "df.select('sexo','tag').show(5)"
      ],
      "metadata": {
        "colab": {
          "base_uri": "https://localhost:8080/"
        },
        "id": "SQdiJfNFmu_G",
        "outputId": "1731cd79-ff68-40ce-c96b-44662d7d5cd4"
      },
      "execution_count": 16,
      "outputs": [
        {
          "output_type": "stream",
          "name": "stdout",
          "text": [
            "+----+-------+\n",
            "|sexo|    tag|\n",
            "+----+-------+\n",
            "|   F|sexo: F|\n",
            "|   M|sexo: M|\n",
            "|   F|sexo: F|\n",
            "|   M|sexo: M|\n",
            "|   M|sexo: M|\n",
            "+----+-------+\n",
            "only showing top 5 rows\n",
            "\n"
          ]
        }
      ]
    },
    {
      "cell_type": "code",
      "source": [
        "# 3. contestar las siguientes preguntas de negocio sobre los datos de covid:\n",
        "# 3.1 Los 10 departamentos con más casos de covid en Colombia ordenados de mayor a menor.\n",
        "# Dataframes\n",
        "departamentos = df.groupBy(\"departamento\").count().orderBy(desc(\"count\")).limit(10)\n",
        "departamentos.show()"
      ],
      "metadata": {
        "colab": {
          "base_uri": "https://localhost:8080/"
        },
        "id": "OlV1ZctQmyDM",
        "outputId": "fe2a7f09-62a6-4ba1-8143-ca007147c893"
      },
      "execution_count": 17,
      "outputs": [
        {
          "output_type": "stream",
          "name": "stdout",
          "text": [
            "+------------+-----+\n",
            "|departamento|count|\n",
            "+------------+-----+\n",
            "|      BOGOTA|30016|\n",
            "|BARRANQUILLA|13065|\n",
            "|   ATLANTICO|10994|\n",
            "|       VALLE|10404|\n",
            "|   CARTAGENA| 8333|\n",
            "|   ANTIOQUIA| 4554|\n",
            "|      NARIÑO| 3520|\n",
            "|CUNDINAMARCA| 2827|\n",
            "|    AMAZONAS| 2317|\n",
            "|       CHOCO| 1636|\n",
            "+------------+-----+\n",
            "\n"
          ]
        }
      ]
    },
    {
      "cell_type": "code",
      "source": [
        "# SparkSQL\n",
        "df.createOrReplaceTempView(\"data\")\n",
        "departamentos = spark.sql(\"SELECT departamento, COUNT(*) AS casos FROM data GROUP BY departamento ORDER BY casos DESC LIMIT 10\")\n",
        "departamentos.show()"
      ],
      "metadata": {
        "colab": {
          "base_uri": "https://localhost:8080/"
        },
        "id": "uPltfTvPm1HT",
        "outputId": "05ee1de3-54ca-49b8-94ce-4709d558aa0f"
      },
      "execution_count": 18,
      "outputs": [
        {
          "output_type": "stream",
          "name": "stdout",
          "text": [
            "+------------+-----+\n",
            "|departamento|casos|\n",
            "+------------+-----+\n",
            "|      BOGOTA|30016|\n",
            "|BARRANQUILLA|13065|\n",
            "|   ATLANTICO|10994|\n",
            "|       VALLE|10404|\n",
            "|   CARTAGENA| 8333|\n",
            "|   ANTIOQUIA| 4554|\n",
            "|      NARIÑO| 3520|\n",
            "|CUNDINAMARCA| 2827|\n",
            "|    AMAZONAS| 2317|\n",
            "|       CHOCO| 1636|\n",
            "+------------+-----+\n",
            "\n"
          ]
        }
      ]
    },
    {
      "cell_type": "code",
      "source": [
        "# 3.2 Las 10 ciudades con más casos de covid en Colombia ordenados de mayor a menor.\n",
        "# Dataframes\n",
        "municipios = df.groupBy(\"municipio\").count().orderBy(desc(\"count\")).limit(10)\n",
        "municipios.show()"
      ],
      "metadata": {
        "colab": {
          "base_uri": "https://localhost:8080/"
        },
        "id": "DWZBEWG2nA2U",
        "outputId": "ae2f0670-f62e-4c4f-d3b3-5b998fdc4961"
      },
      "execution_count": 19,
      "outputs": [
        {
          "output_type": "stream",
          "name": "stdout",
          "text": [
            "+------------+-----+\n",
            "|   municipio|count|\n",
            "+------------+-----+\n",
            "|      BOGOTA|30016|\n",
            "|BARRANQUILLA|13065|\n",
            "|   CARTAGENA| 8333|\n",
            "|        CALI| 7747|\n",
            "|     SOLEDAD| 6233|\n",
            "|     LETICIA| 2194|\n",
            "|    MEDELLIN| 2137|\n",
            "|      TUMACO| 1501|\n",
            "|BUENAVENTURA| 1453|\n",
            "|      QUIBDO| 1367|\n",
            "+------------+-----+\n",
            "\n"
          ]
        }
      ]
    },
    {
      "cell_type": "code",
      "source": [
        "# SparkSQL\n",
        "municipios = spark.sql(\"SELECT municipio, COUNT(*) AS casos FROM data GROUP BY municipio ORDER BY casos DESC LIMIT 10\")\n",
        "municipios.show()"
      ],
      "metadata": {
        "colab": {
          "base_uri": "https://localhost:8080/"
        },
        "id": "BMAl1KxPnD1z",
        "outputId": "5914455c-221c-4a4d-eb8a-f17bcc82e526"
      },
      "execution_count": 20,
      "outputs": [
        {
          "output_type": "stream",
          "name": "stdout",
          "text": [
            "+------------+-----+\n",
            "|   municipio|casos|\n",
            "+------------+-----+\n",
            "|      BOGOTA|30016|\n",
            "|BARRANQUILLA|13065|\n",
            "|   CARTAGENA| 8333|\n",
            "|        CALI| 7747|\n",
            "|     SOLEDAD| 6233|\n",
            "|     LETICIA| 2194|\n",
            "|    MEDELLIN| 2137|\n",
            "|      TUMACO| 1501|\n",
            "|BUENAVENTURA| 1453|\n",
            "|      QUIBDO| 1367|\n",
            "+------------+-----+\n",
            "\n"
          ]
        }
      ]
    },
    {
      "cell_type": "code",
      "source": [
        "# 3.3 Los 10 días con más casos de covid en Colombia ordenados de mayor a menor.\n",
        "# Datasets\n",
        "dias = df.groupBy(\"fecha_reporte_web\").count().orderBy(desc(\"count\")).limit(10)\n",
        "dias.show()"
      ],
      "metadata": {
        "colab": {
          "base_uri": "https://localhost:8080/"
        },
        "id": "J7RGxs1rnFdP",
        "outputId": "187504f6-32e0-4a1b-c733-feb230423390"
      },
      "execution_count": 21,
      "outputs": [
        {
          "output_type": "stream",
          "name": "stdout",
          "text": [
            "+-----------------+-----+\n",
            "|fecha_reporte_web|count|\n",
            "+-----------------+-----+\n",
            "|27/6/2020 0:00:00| 4149|\n",
            "|26/6/2020 0:00:00| 3843|\n",
            "|24/6/2020 0:00:00| 3541|\n",
            "|25/6/2020 0:00:00| 3486|\n",
            "|29/6/2020 0:00:00| 3274|\n",
            "|28/6/2020 0:00:00| 3178|\n",
            "|18/6/2020 0:00:00| 3171|\n",
            "|19/6/2020 0:00:00| 3059|\n",
            "|21/6/2020 0:00:00| 3019|\n",
            "|30/6/2020 0:00:00| 2803|\n",
            "+-----------------+-----+\n",
            "\n"
          ]
        }
      ]
    },
    {
      "cell_type": "code",
      "source": [
        "# SparkSQL\n",
        "dias = spark.sql(\"SELECT fecha_reporte_web as Fecha, COUNT(*) AS Casos FROM data GROUP BY fecha_reporte_web ORDER BY casos DESC LIMIT 10\")\n",
        "dias.show()"
      ],
      "metadata": {
        "colab": {
          "base_uri": "https://localhost:8080/"
        },
        "id": "9WSjTgkinHIF",
        "outputId": "87868e69-d8a1-4977-b7d4-bb249bea72b6"
      },
      "execution_count": 22,
      "outputs": [
        {
          "output_type": "stream",
          "name": "stdout",
          "text": [
            "+-----------------+-----+\n",
            "|            Fecha|Casos|\n",
            "+-----------------+-----+\n",
            "|27/6/2020 0:00:00| 4149|\n",
            "|26/6/2020 0:00:00| 3843|\n",
            "|24/6/2020 0:00:00| 3541|\n",
            "|25/6/2020 0:00:00| 3486|\n",
            "|29/6/2020 0:00:00| 3274|\n",
            "|28/6/2020 0:00:00| 3178|\n",
            "|18/6/2020 0:00:00| 3171|\n",
            "|19/6/2020 0:00:00| 3059|\n",
            "|21/6/2020 0:00:00| 3019|\n",
            "|30/6/2020 0:00:00| 2803|\n",
            "+-----------------+-----+\n",
            "\n"
          ]
        }
      ]
    },
    {
      "cell_type": "code",
      "source": [
        "# 3.4 Distribución de casos por edades de covid en Colombia.\n",
        "# Datasets\n",
        "edad = df.groupBy(\"edad\").count().orderBy(desc(\"count\")).limit(10)\n",
        "edad.show()"
      ],
      "metadata": {
        "colab": {
          "base_uri": "https://localhost:8080/"
        },
        "id": "ad1XJIpunIx9",
        "outputId": "6d955f2e-05d7-4837-ebbf-33bd75847db0"
      },
      "execution_count": 23,
      "outputs": [
        {
          "output_type": "stream",
          "name": "stdout",
          "text": [
            "+----+-----+\n",
            "|edad|count|\n",
            "+----+-----+\n",
            "|  30| 2735|\n",
            "|  29| 2611|\n",
            "|  31| 2569|\n",
            "|  28| 2540|\n",
            "|  27| 2494|\n",
            "|  26| 2436|\n",
            "|  33| 2371|\n",
            "|  32| 2362|\n",
            "|  25| 2335|\n",
            "|  34| 2310|\n",
            "+----+-----+\n",
            "\n"
          ]
        }
      ]
    },
    {
      "cell_type": "code",
      "source": [
        "# SparkSQL\n",
        "edad = spark.sql(\"SELECT edad, COUNT(*) AS casos FROM data GROUP BY edad ORDER BY casos DESC LIMIT 10\")\n",
        "edad.show()"
      ],
      "metadata": {
        "colab": {
          "base_uri": "https://localhost:8080/"
        },
        "id": "03TcNNh1nKT3",
        "outputId": "76bcd263-258e-4bdb-e368-8557a8ce085a"
      },
      "execution_count": 24,
      "outputs": [
        {
          "output_type": "stream",
          "name": "stdout",
          "text": [
            "+----+-----+\n",
            "|edad|casos|\n",
            "+----+-----+\n",
            "|  30| 2735|\n",
            "|  29| 2611|\n",
            "|  31| 2569|\n",
            "|  28| 2540|\n",
            "|  27| 2494|\n",
            "|  26| 2436|\n",
            "|  33| 2371|\n",
            "|  32| 2362|\n",
            "|  25| 2335|\n",
            "|  34| 2310|\n",
            "+----+-----+\n",
            "\n"
          ]
        }
      ]
    },
    {
      "cell_type": "code",
      "source": [
        "# 3.5 las 10 etnias con más casos reportados en colombia\n",
        "# Datasets\n",
        "etnia = df.groupBy(\"nombre_etnia\").count().orderBy(desc(\"count\")).limit(10)\n",
        "etnia.show()"
      ],
      "metadata": {
        "colab": {
          "base_uri": "https://localhost:8080/"
        },
        "id": "9BZKBXQFnL3R",
        "outputId": "cec6b016-3a21-49a6-b52e-419e3f911d91"
      },
      "execution_count": 25,
      "outputs": [
        {
          "output_type": "stream",
          "name": "stdout",
          "text": [
            "+------------+-----+\n",
            "|nombre_etnia|count|\n",
            "+------------+-----+\n",
            "|        null|94342|\n",
            "| Por definir| 3603|\n",
            "|      MOKANA|  373|\n",
            "|      TIKUNA|  357|\n",
            "|        ZENU|  273|\n",
            "|       PASTO|  218|\n",
            "|       PIJAO|  116|\n",
            "|MURUI_UITOTO|   96|\n",
            "|   NASA_PAÉZ|   82|\n",
            "|       WAYUU|   62|\n",
            "+------------+-----+\n",
            "\n"
          ]
        }
      ]
    },
    {
      "cell_type": "code",
      "source": [
        "# SparkSQL\n",
        "etnia = spark.sql(\"SELECT nombre_etnia as Etnia, COUNT(*) AS casos FROM data GROUP BY nombre_etnia ORDER BY casos DESC LIMIT 10\")\n",
        "etnia.show()"
      ],
      "metadata": {
        "colab": {
          "base_uri": "https://localhost:8080/"
        },
        "id": "wrcKY68TnNm5",
        "outputId": "ab57fb77-f7a4-49b2-ebec-da0644f8858e"
      },
      "execution_count": 26,
      "outputs": [
        {
          "output_type": "stream",
          "name": "stdout",
          "text": [
            "+------------+-----+\n",
            "|       Etnia|casos|\n",
            "+------------+-----+\n",
            "|        null|94342|\n",
            "| Por definir| 3603|\n",
            "|      MOKANA|  373|\n",
            "|      TIKUNA|  357|\n",
            "|        ZENU|  273|\n",
            "|       PASTO|  218|\n",
            "|       PIJAO|  116|\n",
            "|MURUI_UITOTO|   96|\n",
            "|   NASA_PAÉZ|   82|\n",
            "|       WAYUU|   62|\n",
            "+------------+-----+\n",
            "\n"
          ]
        }
      ]
    },
    {
      "cell_type": "code",
      "source": [
        "departamentos.write.csv(\"/content/drive/My Drive/covid19/lab6.2/departamentos.csv\")\n",
        "municipios.write.csv(\"/content/drive/My Drive/covid19/lab6.2/municipios.csv\")\n",
        "dias.write.csv(\"/content/drive/My Drive/covid19/lab6.2/dias.csv\")\n",
        "edad.write.csv(\"/content/drive/My Drive/covid19/lab6.2/edad.csv\")\n",
        "etnia.write.csv(\"/content/drive/My Drive/covid19/lab6.2/etnia.csv\")"
      ],
      "metadata": {
        "id": "Q-MWb8rJna41"
      },
      "execution_count": 27,
      "outputs": []
    }
  ]
}
